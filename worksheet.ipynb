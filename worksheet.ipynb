{
 "cells": [
  {
   "cell_type": "markdown",
   "id": "e2b24403",
   "metadata": {},
   "source": [
    "# Final Project\n",
    "### Adam Scott (100785312)"
   ]
  },
  {
   "cell_type": "code",
   "execution_count": 6,
   "id": "917f9606",
   "metadata": {
    "vscode": {
     "languageId": "plaintext"
    }
   },
   "outputs": [],
   "source": [
    "@file:DependsOn(\"./lib/antlr-4.13.1-complete.jar\")\n",
    "@file:DependsOn(\"./target\")"
   ]
  },
  {
   "cell_type": "code",
   "execution_count": 7,
   "id": "fe116841",
   "metadata": {
    "vscode": {
     "languageId": "java"
    }
   },
   "outputs": [],
   "source": [
    "import org.antlr.v4.runtime.*\n",
    "import backend.*"
   ]
  },
  {
   "cell_type": "code",
   "execution_count": 8,
   "id": "a54006d5",
   "metadata": {},
   "outputs": [],
   "source": [
    "fun execute(source:String) {\n",
    "    val errorlistener = object: BaseErrorListener() {\n",
    "        override fun syntaxError(recognizer: Recognizer<*,*>,\n",
    "               offendingSymbol: Any?,\n",
    "               line: Int,\n",
    "               pos: Int,\n",
    "               msg: String,\n",
    "               e: RecognitionException?) {\n",
    "            throw Exception(\"${e} at line:${line}, char:${pos}\")\n",
    "        }\n",
    "    }\n",
    "    val input = CharStreams.fromString(source)\n",
    "    val lexer = PLLexer(input).apply {\n",
    "        removeErrorListeners()\n",
    "        addErrorListener(errorlistener)\n",
    "    }\n",
    "    val tokens = CommonTokenStream(lexer)\n",
    "    val parser = PLParser(tokens).apply {\n",
    "        removeErrorListeners()\n",
    "        addErrorListener(errorlistener)\n",
    "    }    \n",
    "    \n",
    "    try {\n",
    "        val result = parser.program()\n",
    "        result.expr.eval(Runtime())\n",
    "    } catch(e:Exception) {\n",
    "        println(\"Error: ${e}\")\n",
    "    }\n",
    "}"
   ]
  },
  {
   "cell_type": "code",
   "execution_count": null,
   "id": "6ea8c7d0",
   "metadata": {},
   "outputs": [],
   "source": []
  },
  {
   "cell_type": "markdown",
   "id": "960fe65e",
   "metadata": {},
   "source": [
    "## Topic: Extension on Assignment 3 (file I/O)"
   ]
  },
  {
   "cell_type": "markdown",
   "id": "5dc77f6d",
   "metadata": {},
   "source": [
    "### Feature 1: File Reading\n",
    "This program opens up a specified pre-existing text file in read mode, assigns it's contents to a variable, and prints it's contents. "
   ]
  },
  {
   "cell_type": "code",
   "execution_count": 9,
   "id": "fdcdf7dd",
   "metadata": {},
   "outputs": [
    {
     "name": "stdout",
     "output_type": "stream",
     "text": [
      "Hello World! This is a read test!\n"
     ]
    }
   ],
   "source": [
    "val example1 = \"\"\"\n",
    "with open(\"ReadTest.txt\", 'r') as file {\n",
    "    contents = file.read();\n",
    "    print(contents);\n",
    "}\n",
    "\"\"\"\n",
    "\n",
    "\n",
    "execute(example1)"
   ]
  },
  {
   "cell_type": "markdown",
   "id": "09dc5e08",
   "metadata": {},
   "source": [
    "The read file mode will also only allow for reading, it will not allow attempts to write. Instead it will raise an Exception:"
   ]
  },
  {
   "cell_type": "code",
   "execution_count": 10,
   "id": "d9d873e0",
   "metadata": {},
   "outputs": [
    {
     "name": "stdout",
     "output_type": "stream",
     "text": [
      "Error: java.lang.Exception: Incorrect File Mode: You must be in read mode to perform reading operations.\n"
     ]
    }
   ],
   "source": [
    "val example2 = \"\"\"\n",
    "with open(\"ReadTest.txt\", 'r') as file {\n",
    "    file.write(\"Trying to write\");\n",
    "}\n",
    "\"\"\"\n",
    "\n",
    "\n",
    "execute(example2)"
   ]
  },
  {
   "cell_type": "markdown",
   "id": "de0b61f2",
   "metadata": {},
   "source": [
    "### Feature 2: File Writing\n",
    "This program opens a specified text file in write mode, and writes the specified contents to it. If the file doesn't not exist, it will be created."
   ]
  },
  {
   "cell_type": "code",
   "execution_count": 11,
   "id": "43a294a6",
   "metadata": {},
   "outputs": [
    {
     "name": "stdout",
     "output_type": "stream",
     "text": [
      "Hello, world! This is the first writing test.\n",
      "\n"
     ]
    }
   ],
   "source": [
    "val example3 = \"\"\"\n",
    "with open(\"WriteTest.txt\", 'w') as file {\n",
    "    file.write(\"Hello, world! This is the first writing test.\");\n",
    "}\n",
    "\n",
    "with open(\"WriteTest.txt\", 'r') as file {\n",
    "    contents = file.read();\n",
    "    print(contents);\n",
    "}\n",
    "\"\"\"\n",
    "\n",
    "execute(example3)"
   ]
  },
  {
   "cell_type": "markdown",
   "id": "42e6ac35",
   "metadata": {},
   "source": [
    "If the file already exists, it's contents will be overwritten. "
   ]
  },
  {
   "cell_type": "code",
   "execution_count": 12,
   "id": "e2362c26",
   "metadata": {
    "vscode": {
     "languageId": "plaintext"
    }
   },
   "outputs": [
    {
     "name": "stdout",
     "output_type": "stream",
     "text": [
      "This text should overwrite the previous file.\n",
      "\n"
     ]
    }
   ],
   "source": [
    "val example4 = \"\"\"\n",
    "with open(\"WriteTest.txt\", 'w') as file {\n",
    "    file.write(\"This text should overwrite the previous file.\");\n",
    "}\n",
    "\n",
    "with open(\"WriteTest.txt\", 'r') as file {\n",
    "    contents = file.read();\n",
    "    print(contents);\n",
    "}\n",
    "\"\"\"\n",
    "\n",
    "execute(example4)"
   ]
  },
  {
   "cell_type": "markdown",
   "id": "7375d983",
   "metadata": {},
   "source": [
    "The write file mode will also only allow for writing, and will not allow reading. Instead it will raise an Exception:"
   ]
  },
  {
   "cell_type": "code",
   "execution_count": 13,
   "id": "1a652e8c",
   "metadata": {},
   "outputs": [
    {
     "name": "stdout",
     "output_type": "stream",
     "text": [
      "Error: java.lang.Exception: Incorrect File Mode: You must be in write or append mode to perform writing operations\n"
     ]
    }
   ],
   "source": [
    "val example5 = \"\"\"\n",
    "with open(\"WriteTest.txt\", 'w') as file {\n",
    "    contents = file.read();\n",
    "    print(contents)\n",
    "}\n",
    "\n",
    "\"\"\"\n",
    "\n",
    "execute(example5)"
   ]
  },
  {
   "cell_type": "markdown",
   "id": "c93df9af",
   "metadata": {},
   "source": [
    "### Feature 3: File Appending\n",
    "This program opens a specified text file in append mode, and appends the specified contents to it. "
   ]
  },
  {
   "cell_type": "code",
   "execution_count": 14,
   "id": "69164845",
   "metadata": {
    "scrolled": true
   },
   "outputs": [
    {
     "name": "stdout",
     "output_type": "stream",
     "text": [
      "Previous File Contents:\n",
      "This text should overwrite the previous file.\n",
      "\n",
      "After appending File Contents:\n",
      "This text should overwrite the previous file.\n",
      "This is another line.\n",
      "\n"
     ]
    }
   ],
   "source": [
    "val example6 = \"\"\"\n",
    "print(\"Previous File Contents:\");\n",
    "with open(\"WriteTest.txt\", 'r') as file {\n",
    "    contents = file.read();\n",
    "    print(contents);\n",
    "}\n",
    "\n",
    "with open(\"WriteTest.txt\", 'a') as file {\n",
    "    file.write(\"This is another line.\")\n",
    "}\n",
    "\n",
    "print(\"After appending File Contents:\")\n",
    "with open(\"WriteTest.txt\", 'r') as file {\n",
    "    contents = file.read();\n",
    "    print(contents);\n",
    "}\n",
    "\"\"\"\n",
    "\n",
    "execute(example6)"
   ]
  },
  {
   "cell_type": "markdown",
   "id": "b6c6af99",
   "metadata": {},
   "source": [
    "The append file mode will also only allow for writing, and will not allow reading. Instead it will raise an Exception:"
   ]
  },
  {
   "cell_type": "code",
   "execution_count": 15,
   "id": "685ce786",
   "metadata": {},
   "outputs": [
    {
     "name": "stdout",
     "output_type": "stream",
     "text": [
      "Error: java.lang.Exception: Incorrect File Mode: You must be in write or append mode to perform writing operations\n"
     ]
    }
   ],
   "source": [
    "val example7 = \"\"\"\n",
    "with open(\"WriteTest.txt\", 'a') as file {\n",
    "    contents = file.read();\n",
    "    print(contents);\n",
    "}\n",
    "\"\"\"\n",
    "\n",
    "execute(example7)"
   ]
  },
  {
   "cell_type": "code",
   "execution_count": null,
   "id": "94fa0c6f",
   "metadata": {},
   "outputs": [],
   "source": []
  },
  {
   "cell_type": "code",
   "execution_count": null,
   "id": "42896037",
   "metadata": {},
   "outputs": [],
   "source": []
  }
 ],
 "metadata": {
  "kernelspec": {
   "display_name": "Kotlin",
   "language": "kotlin",
   "name": "kotlin"
  },
  "language_info": {
   "codemirror_mode": "text/x-kotlin",
   "file_extension": ".kt",
   "mimetype": "text/x-kotlin",
   "name": "kotlin",
   "nbconvert_exporter": "",
   "pygments_lexer": "kotlin",
   "version": "1.9.10"
  }
 },
 "nbformat": 4,
 "nbformat_minor": 5
}
