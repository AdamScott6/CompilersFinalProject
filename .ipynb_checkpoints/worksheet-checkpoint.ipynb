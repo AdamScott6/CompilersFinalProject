{
 "cells": [
  {
   "cell_type": "markdown",
   "id": "e2b24403",
   "metadata": {},
   "source": [
    "# Final Project\n",
    "### Adam Scott (100785312)"
   ]
  },
  {
   "cell_type": "code",
   "execution_count": 12,
   "id": "a54006d5",
   "metadata": {},
   "outputs": [
    {
     "name": "stderr",
     "output_type": "stream",
     "text": [
      "Line_332.jupyter.kts (4:12 - 17) Unresolved reference: antlr\n",
      "Line_332.jupyter.kts (8:33 - 50) Unresolved reference: BaseErrorListener\n",
      "Line_332.jupyter.kts (9:9 - 17) 'syntaxError' overrides nothing\n",
      "Line_332.jupyter.kts (9:46 - 56) Unresolved reference: Recognizer\n",
      "Line_332.jupyter.kts (14:19 - 39) Unresolved reference: RecognitionException\n",
      "Line_332.jupyter.kts (18:17 - 28) Unresolved reference: CharStreams\n",
      "Line_332.jupyter.kts (19:17 - 24) Unresolved reference: PLLexer\n",
      "Line_332.jupyter.kts (20:9 - 29) Unresolved reference: removeErrorListeners\n",
      "Line_332.jupyter.kts (21:9 - 25) Unresolved reference: addErrorListener\n",
      "Line_332.jupyter.kts (23:18 - 35) Unresolved reference: CommonTokenStream\n",
      "Line_332.jupyter.kts (24:18 - 26) Unresolved reference: PLParser\n",
      "Line_332.jupyter.kts (25:9 - 29) Unresolved reference: removeErrorListeners\n",
      "Line_332.jupyter.kts (26:9 - 25) Unresolved reference: addErrorListener"
     ]
    }
   ],
   "source": [
    "@file:DependsOn(\"/antlr-4.11.1-complete.jar\")\n",
    "@file:DependsOn(\"./target\")\n",
    "\n",
    "import org.antlr.v4.runtime.*\n",
    "import backend.*\n",
    "\n",
    "fun execute(source:String) {\n",
    "    val errorlistener = object: BaseErrorListener() {\n",
    "        override fun syntaxError(recognizer: Recognizer<*,*>,\n",
    "               offendingSymbol: Any?,\n",
    "               line: Int,\n",
    "               pos: Int,\n",
    "               msg: String,\n",
    "               e: RecognitionException?) {\n",
    "            throw Exception(\"${e} at line:${line}, char:${pos}\")\n",
    "        }\n",
    "    }\n",
    "    val input = CharStreams.fromString(source)\n",
    "    val lexer = PLLexer(input).apply {\n",
    "        removeErrorListeners()\n",
    "        addErrorListener(errorlistener)\n",
    "    }\n",
    "    val tokens = CommonTokenStream(lexer)\n",
    "    val parser = PLParser(tokens).apply {\n",
    "        removeErrorListeners()\n",
    "        addErrorListener(errorlistener)\n",
    "    }    \n",
    "    \n",
    "    try {\n",
    "        val result = parser.program()\n",
    "        result.expr.eval(Runtime())\n",
    "    } catch(e:Exception) {\n",
    "        println(\"Error: ${e}\")\n",
    "    }\n",
    "}"
   ]
  },
  {
   "cell_type": "code",
   "execution_count": null,
   "id": "6ea8c7d0",
   "metadata": {},
   "outputs": [],
   "source": []
  },
  {
   "cell_type": "markdown",
   "id": "960fe65e",
   "metadata": {},
   "source": [
    "## Topic: Extension on Assignment 3 (file I/O)"
   ]
  },
  {
   "cell_type": "markdown",
   "id": "5dc77f6d",
   "metadata": {},
   "source": [
    "### Feature 1: File Reading\n",
    "This program opens up a specified pre-existing text file in read mode, assigns it's contents to a variable, and prints it's contents. "
   ]
  },
  {
   "cell_type": "code",
   "execution_count": 3,
   "id": "fdcdf7dd",
   "metadata": {},
   "outputs": [
    {
     "name": "stderr",
     "output_type": "stream",
     "text": [
      "Line_52.jupyter.kts (9:1 - 8) Unresolved reference: execute"
     ]
    }
   ],
   "source": [
    "val example1 = \"\"\"\n",
    "with open(\"Test1.txt\", 'r') as file {\n",
    "    contents = file.read();\n",
    "    print(contents);\n",
    "}\n",
    "\"\"\"\n",
    "\n",
    "\n",
    "execute(example1)"
   ]
  },
  {
   "cell_type": "markdown",
   "id": "09dc5e08",
   "metadata": {},
   "source": [
    "The read file mode will also only allow for reading, it will not allow attempts to write:"
   ]
  },
  {
   "cell_type": "code",
   "execution_count": 7,
   "id": "d9d873e0",
   "metadata": {},
   "outputs": [
    {
     "name": "stderr",
     "output_type": "stream",
     "text": [
      "Line_168.jupyter.kts (8:1 - 8) Unresolved reference: execute"
     ]
    }
   ],
   "source": [
    "val example2 = \"\"\"\n",
    "with open(\"Test1.txt\", 'r') as file {\n",
    "    file.write(\"Trying to write\");\n",
    "}\n",
    "\"\"\"\n",
    "\n",
    "\n",
    "execute(example2)"
   ]
  },
  {
   "cell_type": "markdown",
   "id": "de0b61f2",
   "metadata": {},
   "source": [
    "### Feature 2: File Writing\n",
    "This program opens a specified text file in write mode, and writes the specified contents to it. If the file doesn't not exist, it will be created. If the file already exists, it's contents will be overwritten. "
   ]
  },
  {
   "cell_type": "code",
   "execution_count": 9,
   "id": "43a294a6",
   "metadata": {},
   "outputs": [
    {
     "name": "stderr",
     "output_type": "stream",
     "text": [
      "Line_289.jupyter.kts (12:1 - 8) Unresolved reference: execute"
     ]
    }
   ],
   "source": [
    "val example3 = \"\"\"\n",
    "with open(\"Test6.txt\", 'w') as file {\n",
    "    file.write(\"Hello, world! This isa 6 writing test.\");\n",
    "}\n",
    "\n",
    "with open(\"Test6.txt\", 'r') as filee {\n",
    "    contents = filee.read();\n",
    "    print(contents);\n",
    "}\n",
    "\"\"\"\n",
    "\n",
    "execute(example3)"
   ]
  },
  {
   "cell_type": "markdown",
   "id": "7375d983",
   "metadata": {},
   "source": [
    "The write file mode will also only allow for writing, and will not allow reading."
   ]
  },
  {
   "cell_type": "code",
   "execution_count": 10,
   "id": "1a652e8c",
   "metadata": {},
   "outputs": [
    {
     "name": "stderr",
     "output_type": "stream",
     "text": [
      "Line_290.jupyter.kts (9:1 - 8) Unresolved reference: execute"
     ]
    }
   ],
   "source": [
    "val example4 = \"\"\"\n",
    "with open(\"Test6.txt\", 'w') as file {\n",
    "    contents = file.read();\n",
    "    print(contents)\n",
    "}\n",
    "\n",
    "\"\"\"\n",
    "\n",
    "execute(example4)"
   ]
  },
  {
   "cell_type": "markdown",
   "id": "c93df9af",
   "metadata": {},
   "source": [
    "### Feature 3: File Appending\n",
    "This program opens a specified text file in append mode, and appends the specified contents to it. The resulting output should be:"
   ]
  },
  {
   "cell_type": "code",
   "execution_count": 5,
   "id": "69164845",
   "metadata": {},
   "outputs": [
    {
     "name": "stderr",
     "output_type": "stream",
     "text": [
      "Line_56.jupyter.kts (17:1 - 8) Unresolved reference: execute"
     ]
    }
   ],
   "source": [
    "val example5 = \"\"\"\n",
    "with open(\"Test6.txt\", 'r') as file {\n",
    "    contents = file.read();\n",
    "    print(contents);\n",
    "}\n",
    "\n",
    "with open(\"Test6.txt\", 'a') as file {\n",
    "    file.write(\"This is another line.\")\n",
    "}\n",
    "\n",
    "with open(\"Test6.txt\", 'r') as file {\n",
    "    contents = file.read();\n",
    "    print(contents);\n",
    "}\n",
    "\"\"\"\n",
    "\n",
    "execute(example5)"
   ]
  },
  {
   "cell_type": "markdown",
   "id": "b6c6af99",
   "metadata": {},
   "source": [
    "The append file mode will also only allow for writing, and will not allow reading."
   ]
  },
  {
   "cell_type": "code",
   "execution_count": 11,
   "id": "685ce786",
   "metadata": {},
   "outputs": [
    {
     "name": "stderr",
     "output_type": "stream",
     "text": [
      "Line_331.jupyter.kts (8:1 - 8) Unresolved reference: execute"
     ]
    }
   ],
   "source": [
    "val example6 = \"\"\"\n",
    "with open(\"Test6.txt\", 'a') as file {\n",
    "    contents = file.read();\n",
    "    print(contents);\n",
    "}\n",
    "\"\"\"\n",
    "\n",
    "execute(example6)"
   ]
  },
  {
   "cell_type": "code",
   "execution_count": null,
   "id": "1dfb11c7",
   "metadata": {},
   "outputs": [],
   "source": []
  }
 ],
 "metadata": {
  "kernelspec": {
   "display_name": "Kotlin",
   "language": "kotlin",
   "name": "kotlin"
  },
  "language_info": {
   "codemirror_mode": "text/x-kotlin",
   "file_extension": ".kt",
   "mimetype": "text/x-kotlin",
   "name": "kotlin",
   "nbconvert_exporter": "",
   "pygments_lexer": "kotlin",
   "version": "1.9.10"
  }
 },
 "nbformat": 4,
 "nbformat_minor": 5
}
